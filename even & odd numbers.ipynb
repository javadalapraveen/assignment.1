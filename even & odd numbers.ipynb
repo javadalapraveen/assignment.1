{
 "cells": [
  {
   "cell_type": "code",
   "execution_count": 41,
   "metadata": {},
   "outputs": [
    {
     "name": "stdout",
     "output_type": "stream",
     "text": [
      "Even numbers available in the jj:  4\n",
      "Odd numbers available in the jj:  5\n"
     ]
    }
   ],
   "source": [
    "jj =[1,2,3,4,5,6,7,8,9]\n",
    "even_count=0\n",
    "odd_count=0\n",
    "\n",
    "for i  in jj:\n",
    "\n",
    "   if i % 2 == 0:\n",
    "      even_count += 1\n",
    "\n",
    "   else:\n",
    "      odd_count += 1\n",
    "print(\"Even numbers available in the jj: \", even_count)\n",
    "print(\"Odd numbers available in the jj: \", odd_count)"
   ]
  }
 ],
 "metadata": {
  "kernelspec": {
   "display_name": "Python 3",
   "language": "python",
   "name": "python3"
  },
  "language_info": {
   "codemirror_mode": {
    "name": "ipython",
    "version": 3
   },
   "file_extension": ".py",
   "mimetype": "text/x-python",
   "name": "python",
   "nbconvert_exporter": "python",
   "pygments_lexer": "ipython3",
   "version": "3.11.4"
  },
  "orig_nbformat": 4
 },
 "nbformat": 4,
 "nbformat_minor": 2
}
