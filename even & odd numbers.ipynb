{
 "cells": [
  {
   "cell_type": "code",
   "execution_count": 2,
   "metadata": {},
   "outputs": [
    {
     "name": "stdout",
     "output_type": "stream",
     "text": [
      "The number of even numbers is: 4\n",
      "The number of odd numbers is: 5\n"
     ]
    }
   ],
   "source": [
    "def count_even_odd(numbers):\n",
    "\n",
    "  even_count = 0\n",
    "  odd_count = 0\n",
    "  for number in numbers:\n",
    "    if number % 2 == 0:\n",
    "      even_count += 1\n",
    "    else:\n",
    "      odd_count += 1\n",
    "  return even_count, odd_count\n",
    "\n",
    "\n",
    "# Get the numbers from the user.\n",
    "numbers = input(\"Enter a series of numbers separated by commas: \").split(\",\")\n",
    "\n",
    "numbers = [int(number) for number in numbers]\n",
    "\n",
    "even_count, odd_count = count_even_odd(numbers)\n",
    "\n",
    "print(\"The number of even numbers is:\", even_count)\n",
    "print(\"The number of odd numbers is:\", odd_count)\n"
   ]
  }
 ],
 "metadata": {
  "kernelspec": {
   "display_name": "Python 3",
   "language": "python",
   "name": "python3"
  },
  "language_info": {
   "codemirror_mode": {
    "name": "ipython",
    "version": 3
   },
   "file_extension": ".py",
   "mimetype": "text/x-python",
   "name": "python",
   "nbconvert_exporter": "python",
   "pygments_lexer": "ipython3",
   "version": "3.11.4"
  },
  "orig_nbformat": 4
 },
 "nbformat": 4,
 "nbformat_minor": 2
}
