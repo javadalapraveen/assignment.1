{
 "cells": [
  {
   "cell_type": "code",
   "execution_count": 1,
   "metadata": {},
   "outputs": [
    {
     "name": "stdout",
     "output_type": "stream",
     "text": [
      "the original string is :  blue beetle\n",
      "the reversed  string is :  elteeb eulb\n"
     ]
    }
   ],
   "source": [
    "#Write a Python program that accepts a word from the user and reverse it.\n",
    "a=str(input(\"enter the name: \"))\n",
    "print(\"the original string is : \",a)\n",
    "\n",
    "jj=\"\"\n",
    "count=len(a)\n",
    "\n",
    "while count>0:\n",
    "    jj+=a[count-1]\n",
    "    count=count-1\n",
    "print(\"the reversed  string is : \",jj)"
   ]
  }
 ],
 "metadata": {
  "kernelspec": {
   "display_name": "Python 3",
   "language": "python",
   "name": "python3"
  },
  "language_info": {
   "codemirror_mode": {
    "name": "ipython",
    "version": 3
   },
   "file_extension": ".py",
   "mimetype": "text/x-python",
   "name": "python",
   "nbconvert_exporter": "python",
   "pygments_lexer": "ipython3",
   "version": "3.11.4"
  },
  "orig_nbformat": 4
 },
 "nbformat": 4,
 "nbformat_minor": 2
}
